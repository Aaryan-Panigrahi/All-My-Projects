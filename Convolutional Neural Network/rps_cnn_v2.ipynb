{
  "cells": [
    {
      "cell_type": "code",
      "execution_count": 1,
      "metadata": {
        "id": "H1XAqRoWtI_s"
      },
      "outputs": [],
      "source": [
        "import tensorflow as tf\n",
        "from tensorflow import keras\n",
        "import tensorflow_datasets as tfds\n",
        "import numpy as np\n",
        "import matplotlib.pyplot as plt"
      ]
    },
    {
      "cell_type": "code",
      "execution_count": 2,
      "metadata": {
        "colab": {
          "base_uri": "https://localhost:8080/"
        },
        "id": "U5696d_NtI_x",
        "outputId": "29b41b5d-5b3a-45b4-d7bd-c23c6a4c381a"
      },
      "outputs": [
        {
          "output_type": "stream",
          "name": "stdout",
          "text": [
            "--2023-03-26 17:50:46--  http://=/\n",
            "Resolving = (=)... failed: Name or service not known.\n",
            "wget: unable to resolve host address ‘=’\n",
            "--2023-03-26 17:50:46--  https://storage.googleapis.com/download.tensorflow.org/data/rps.zip\n",
            "Resolving storage.googleapis.com (storage.googleapis.com)... 209.85.146.128, 209.85.147.128, 142.250.125.128, ...\n",
            "Connecting to storage.googleapis.com (storage.googleapis.com)|209.85.146.128|:443... connected.\n",
            "HTTP request sent, awaiting response... 200 OK\n",
            "Length: 200682221 (191M) [application/zip]\n",
            "Saving to: ‘rps.zip’\n",
            "\n",
            "rps.zip             100%[===================>] 191.38M   208MB/s    in 0.9s    \n",
            "\n",
            "2023-03-26 17:50:47 (208 MB/s) - ‘rps.zip’ saved [200682221/200682221]\n",
            "\n",
            "FINISHED --2023-03-26 17:50:47--\n",
            "Total wall clock time: 1.1s\n",
            "Downloaded: 1 files, 191M in 0.9s (208 MB/s)\n",
            "--2023-03-26 17:50:47--  http://=/\n",
            "Resolving = (=)... failed: Name or service not known.\n",
            "wget: unable to resolve host address ‘=’\n",
            "--2023-03-26 17:50:47--  https://storage.googleapis.com/download.tensorflow.org/data/rps-test-set.zip\n",
            "Resolving storage.googleapis.com (storage.googleapis.com)... 209.85.146.128, 209.85.147.128, 142.250.125.128, ...\n",
            "Connecting to storage.googleapis.com (storage.googleapis.com)|209.85.146.128|:443... connected.\n",
            "HTTP request sent, awaiting response... 200 OK\n",
            "Length: 29516758 (28M) [application/zip]\n",
            "Saving to: ‘rps-test-set.zip’\n",
            "\n",
            "rps-test-set.zip    100%[===================>]  28.15M   168MB/s    in 0.2s    \n",
            "\n",
            "2023-03-26 17:50:47 (168 MB/s) - ‘rps-test-set.zip’ saved [29516758/29516758]\n",
            "\n",
            "FINISHED --2023-03-26 17:50:47--\n",
            "Total wall clock time: 0.2s\n",
            "Downloaded: 1 files, 28M in 0.2s (168 MB/s)\n"
          ]
        }
      ],
      "source": [
        "#Downloading the rps dataset from tensorflow\n",
        "!wget = \"https://storage.googleapis.com/download.tensorflow.org/data/rps.zip\"\n",
        "!wget = \"https://storage.googleapis.com/download.tensorflow.org/data/rps-test-set.zip\""
      ]
    },
    {
      "cell_type": "code",
      "execution_count": 3,
      "metadata": {
        "id": "g5pA-uwlKppR"
      },
      "outputs": [],
      "source": [
        "#Unzipping the dataset\n",
        "import zipfile\n",
        "import pathlib\n",
        "\n",
        "zip_ref = zipfile.ZipFile(\"rps.zip\", \"r\")\n",
        "zip_ref.extractall()\n",
        "zip_ref.close()\n",
        "\n",
        "zip_ref = zipfile.ZipFile(\"rps-test-set.zip\", \"r\")\n",
        "zip_ref.extractall()\n",
        "zip_ref.close()"
      ]
    },
    {
      "cell_type": "code",
      "execution_count": 4,
      "metadata": {
        "id": "AgRlOMpuMM2u"
      },
      "outputs": [],
      "source": [
        "train_ds = \"rps\"\n",
        "test_ds = \"rps-test-set\""
      ]
    },
    {
      "cell_type": "code",
      "execution_count": 5,
      "metadata": {
        "id": "fsbdx3UGtI_0"
      },
      "outputs": [],
      "source": [
        "data_dir = pathlib.Path(train_ds)\n",
        "input_shape = (224, 224, 3)"
      ]
    },
    {
      "cell_type": "code",
      "execution_count": 6,
      "metadata": {
        "colab": {
          "base_uri": "https://localhost:8080/"
        },
        "id": "uTgIVAgCM9gu",
        "outputId": "7643f284-121e-4662-ab2b-0f7929cea99d"
      },
      "outputs": [
        {
          "output_type": "stream",
          "name": "stdout",
          "text": [
            "Found 2520 images belonging to 3 classes.\n",
            "Found 372 images belonging to 3 classes.\n"
          ]
        }
      ],
      "source": [
        "from tensorflow.keras.preprocessing.image import ImageDataGenerator\n",
        "\n",
        "#Creating a data pipeline with Data Augmentation\n",
        "train_datagen = ImageDataGenerator(\n",
        "                                   rescale = 1/255,\n",
        "                                   rotation_range = 20,\n",
        "                                   width_shift_range = 0.1,\n",
        "                                   height_shift_range = 0.1,\n",
        "                                   horizontal_flip = True\n",
        "                                   )\n",
        "test_datagen = ImageDataGenerator(rescale = 1/255.)\n",
        "\n",
        "train_data = train_datagen.flow_from_directory(train_ds,\n",
        "                                               target_size = (224, 224),\n",
        "                                               batch_size = 32,\n",
        "                                               class_mode = \"categorical\")\n",
        "\n",
        "test_data = test_datagen.flow_from_directory(test_ds,\n",
        "                                             target_size = (224, 224),\n",
        "                                             batch_size = 32,\n",
        "                                             class_mode = \"categorical\")"
      ]
    },
    {
      "cell_type": "code",
      "execution_count": 7,
      "metadata": {
        "id": "kHD3y41qtI_0"
      },
      "outputs": [],
      "source": [
        "#Creating the model\n",
        "model = tf.keras.Sequential([\n",
        "    \n",
        "    tf.keras.layers.Conv2D(5, (3,3), activation='relu', input_shape=input_shape),\n",
        "    tf.keras.layers.MaxPooling2D((2,2)),\n",
        "\n",
        "    tf.keras.layers.Conv2D(10, (3,3), activation='relu'),\n",
        "    tf.keras.layers.MaxPooling2D((2,2)),\n",
        "\n",
        "    tf.keras.layers.Conv2D(10, (3,3), activation='relu'),\n",
        "    tf.keras.layers.MaxPooling2D((2,2)),\n",
        "    tf.keras.layers.Conv2D(10, (3,3), activation='relu'),\n",
        "    \n",
        "    tf.keras.layers.Flatten(),\n",
        "    tf.keras.layers.Dense(units = 10, activation='relu'),\n",
        "    tf.keras.layers.Dense(units = 3, activation='softmax')\n",
        "])"
      ]
    },
    {
      "cell_type": "code",
      "execution_count": 8,
      "metadata": {
        "colab": {
          "base_uri": "https://localhost:8080/"
        },
        "id": "Y2BW6vGVtI_1",
        "outputId": "e7b16a20-a9e5-436e-a972-11f7e150307b"
      },
      "outputs": [
        {
          "output_type": "stream",
          "name": "stdout",
          "text": [
            "Model: \"sequential\"\n",
            "_________________________________________________________________\n",
            " Layer (type)                Output Shape              Param #   \n",
            "=================================================================\n",
            " conv2d (Conv2D)             (None, 222, 222, 5)       140       \n",
            "                                                                 \n",
            " max_pooling2d (MaxPooling2D  (None, 111, 111, 5)      0         \n",
            " )                                                               \n",
            "                                                                 \n",
            " conv2d_1 (Conv2D)           (None, 109, 109, 10)      460       \n",
            "                                                                 \n",
            " max_pooling2d_1 (MaxPooling  (None, 54, 54, 10)       0         \n",
            " 2D)                                                             \n",
            "                                                                 \n",
            " conv2d_2 (Conv2D)           (None, 52, 52, 10)        910       \n",
            "                                                                 \n",
            " max_pooling2d_2 (MaxPooling  (None, 26, 26, 10)       0         \n",
            " 2D)                                                             \n",
            "                                                                 \n",
            " conv2d_3 (Conv2D)           (None, 24, 24, 10)        910       \n",
            "                                                                 \n",
            " flatten (Flatten)           (None, 5760)              0         \n",
            "                                                                 \n",
            " dense (Dense)               (None, 10)                57610     \n",
            "                                                                 \n",
            " dense_1 (Dense)             (None, 3)                 33        \n",
            "                                                                 \n",
            "=================================================================\n",
            "Total params: 60,063\n",
            "Trainable params: 60,063\n",
            "Non-trainable params: 0\n",
            "_________________________________________________________________\n"
          ]
        }
      ],
      "source": [
        "model.summary()"
      ]
    },
    {
      "cell_type": "code",
      "execution_count": 9,
      "metadata": {
        "id": "Q5QKTMi6tI_1"
      },
      "outputs": [],
      "source": [
        "from tensorflow.keras.optimizers import RMSprop\n",
        "\n",
        "#Compiling the model\n",
        "model.compile(optimizer=RMSprop(learning_rate=0.001),\n",
        "              loss='categorical_crossentropy',\n",
        "              metrics = ['accuracy'])"
      ]
    },
    {
      "cell_type": "code",
      "execution_count": 10,
      "metadata": {
        "colab": {
          "base_uri": "https://localhost:8080/"
        },
        "id": "zxPdLXmTNp2K",
        "outputId": "4a6e6b8f-1f00-47c8-b799-4fa73aeb4fd9"
      },
      "outputs": [
        {
          "output_type": "stream",
          "name": "stdout",
          "text": [
            "Epoch 1/5\n",
            "79/79 [==============================] - 48s 460ms/step - loss: 1.1573 - accuracy: 0.4063 - val_loss: 1.0010 - val_accuracy: 0.5215\n",
            "Epoch 2/5\n",
            "79/79 [==============================] - 33s 417ms/step - loss: 0.8044 - accuracy: 0.6571 - val_loss: 0.5047 - val_accuracy: 0.8172\n",
            "Epoch 3/5\n",
            "79/79 [==============================] - 34s 426ms/step - loss: 0.4517 - accuracy: 0.8210 - val_loss: 0.3077 - val_accuracy: 0.8952\n",
            "Epoch 4/5\n",
            "79/79 [==============================] - 32s 407ms/step - loss: 0.2919 - accuracy: 0.8881 - val_loss: 0.2486 - val_accuracy: 0.8952\n",
            "Epoch 5/5\n",
            "79/79 [==============================] - 34s 427ms/step - loss: 0.2412 - accuracy: 0.9131 - val_loss: 0.1669 - val_accuracy: 0.9409\n"
          ]
        }
      ],
      "source": [
        "history = model.fit(train_data,\n",
        "                        epochs = 5,\n",
        "                        steps_per_epoch = len(train_data),\n",
        "                        validation_data = test_data,\n",
        "                        validation_steps = len(test_data),\n",
        "                        verbose = 1)"
      ]
    },
    {
      "cell_type": "code",
      "source": [
        "#Let's vishualize the increase in accuracy as the model learns\n",
        "\n",
        "acc = history.history['accuracy']\n",
        "v_acc = history.history['val_accuracy']\n",
        "epochs = range(len(acc))\n",
        "\n",
        "plt.plot(epochs, acc)\n",
        "plt.plot(epochs, v_acc)\n",
        "plt.title('Training and Validation Acuracies over the iterations')\n",
        "plt.figure()"
      ],
      "metadata": {
        "colab": {
          "base_uri": "https://localhost:8080/",
          "height": 316
        },
        "id": "cq9Z0Z8d0uXU",
        "outputId": "8a318a8c-358f-44bc-d7f9-5c15d02a8f4a"
      },
      "execution_count": 11,
      "outputs": [
        {
          "output_type": "execute_result",
          "data": {
            "text/plain": [
              "<Figure size 432x288 with 0 Axes>"
            ]
          },
          "metadata": {},
          "execution_count": 11
        },
        {
          "output_type": "display_data",
          "data": {
            "text/plain": [
              "<Figure size 432x288 with 1 Axes>"
            ],
            "image/png": "[encoded data removed]"
          },
          "metadata": {
            "needs_background": "light"
          }
        },
        {
          "output_type": "display_data",
          "data": {
            "text/plain": [
              "<Figure size 432x288 with 0 Axes>"
            ]
          },
          "metadata": {}
        }
      ]
    },
    {
      "cell_type": "code",
      "execution_count": 12,
      "metadata": {
        "id": "7Yi0GoycUrvV",
        "colab": {
          "base_uri": "https://localhost:8080/"
        },
        "outputId": "b2d85533-28fe-411f-b583-95056c88d9dd"
      },
      "outputs": [
        {
          "output_type": "stream",
          "name": "stdout",
          "text": [
            "Epoch 1/30\n",
            "79/79 [==============================] - 37s 465ms/step - loss: 0.1906 - accuracy: 0.9349 - val_loss: 0.2093 - val_accuracy: 0.9194\n",
            "Epoch 2/30\n",
            "79/79 [==============================] - 33s 421ms/step - loss: 0.1842 - accuracy: 0.9409 - val_loss: 0.2274 - val_accuracy: 0.9032\n",
            "Epoch 3/30\n",
            "79/79 [==============================] - 32s 411ms/step - loss: 0.1666 - accuracy: 0.9440 - val_loss: 0.1229 - val_accuracy: 0.9435\n",
            "Epoch 4/30\n",
            "79/79 [==============================] - 33s 421ms/step - loss: 0.1441 - accuracy: 0.9512 - val_loss: 0.9790 - val_accuracy: 0.6989\n",
            "Epoch 5/30\n",
            "79/79 [==============================] - 33s 424ms/step - loss: 0.1014 - accuracy: 0.9639 - val_loss: 0.0997 - val_accuracy: 0.9543\n",
            "Epoch 6/30\n",
            "79/79 [==============================] - 34s 425ms/step - loss: 0.1282 - accuracy: 0.9607 - val_loss: 0.0377 - val_accuracy: 1.0000\n",
            "Epoch 7/30\n",
            "79/79 [==============================] - 32s 400ms/step - loss: 0.1234 - accuracy: 0.9615 - val_loss: 0.2156 - val_accuracy: 0.9247\n",
            "Epoch 8/30\n",
            "79/79 [==============================] - 32s 406ms/step - loss: 0.0963 - accuracy: 0.9671 - val_loss: 0.1296 - val_accuracy: 0.9462\n",
            "Epoch 9/30\n",
            "79/79 [==============================] - 32s 408ms/step - loss: 0.1084 - accuracy: 0.9722 - val_loss: 0.1162 - val_accuracy: 0.9382\n",
            "Epoch 10/30\n",
            "79/79 [==============================] - 32s 408ms/step - loss: 0.0919 - accuracy: 0.9694 - val_loss: 0.7908 - val_accuracy: 0.7419\n",
            "Epoch 11/30\n",
            "79/79 [==============================] - 32s 400ms/step - loss: 0.0734 - accuracy: 0.9786 - val_loss: 0.1196 - val_accuracy: 0.9355\n",
            "Epoch 12/30\n",
            "79/79 [==============================] - 32s 411ms/step - loss: 0.0887 - accuracy: 0.9730 - val_loss: 0.0959 - val_accuracy: 0.9489\n",
            "Epoch 13/30\n",
            "79/79 [==============================] - 32s 407ms/step - loss: 0.0643 - accuracy: 0.9778 - val_loss: 0.3216 - val_accuracy: 0.8817\n",
            "Epoch 14/30\n",
            "79/79 [==============================] - 32s 407ms/step - loss: 0.0603 - accuracy: 0.9774 - val_loss: 0.1753 - val_accuracy: 0.9167\n",
            "Epoch 15/30\n",
            "79/79 [==============================] - 32s 407ms/step - loss: 0.0672 - accuracy: 0.9786 - val_loss: 0.0629 - val_accuracy: 0.9839\n",
            "Epoch 16/30\n",
            "79/79 [==============================] - 31s 396ms/step - loss: 0.0479 - accuracy: 0.9825 - val_loss: 0.2798 - val_accuracy: 0.8763\n",
            "Epoch 17/30\n",
            "79/79 [==============================] - 32s 409ms/step - loss: 0.0350 - accuracy: 0.9861 - val_loss: 0.1223 - val_accuracy: 0.9355\n",
            "Epoch 18/30\n",
            "79/79 [==============================] - 32s 404ms/step - loss: 0.0832 - accuracy: 0.9766 - val_loss: 0.0925 - val_accuracy: 0.9570\n",
            "Epoch 19/30\n",
            "79/79 [==============================] - 32s 404ms/step - loss: 0.0430 - accuracy: 0.9869 - val_loss: 0.1411 - val_accuracy: 0.9194\n",
            "Epoch 20/30\n",
            "79/79 [==============================] - 33s 422ms/step - loss: 0.0463 - accuracy: 0.9837 - val_loss: 0.2499 - val_accuracy: 0.8871\n",
            "Epoch 21/30\n",
            "79/79 [==============================] - 32s 405ms/step - loss: 0.0514 - accuracy: 0.9841 - val_loss: 0.3081 - val_accuracy: 0.8710\n",
            "Epoch 22/30\n",
            "79/79 [==============================] - 32s 408ms/step - loss: 0.0338 - accuracy: 0.9889 - val_loss: 0.1902 - val_accuracy: 0.9113\n",
            "Epoch 23/30\n",
            "79/79 [==============================] - 32s 407ms/step - loss: 0.0735 - accuracy: 0.9821 - val_loss: 0.5764 - val_accuracy: 0.7957\n",
            "Epoch 24/30\n",
            "79/79 [==============================] - 32s 410ms/step - loss: 0.0481 - accuracy: 0.9869 - val_loss: 0.2156 - val_accuracy: 0.9247\n",
            "Epoch 25/30\n",
            "79/79 [==============================] - 32s 406ms/step - loss: 0.0360 - accuracy: 0.9865 - val_loss: 0.2342 - val_accuracy: 0.9140\n",
            "Epoch 26/30\n",
            "79/79 [==============================] - 32s 399ms/step - loss: 0.0582 - accuracy: 0.9845 - val_loss: 0.1363 - val_accuracy: 0.9516\n",
            "Epoch 27/30\n",
            "79/79 [==============================] - 32s 407ms/step - loss: 0.0318 - accuracy: 0.9893 - val_loss: 0.2687 - val_accuracy: 0.9059\n",
            "Epoch 28/30\n",
            "79/79 [==============================] - 32s 409ms/step - loss: 0.0308 - accuracy: 0.9921 - val_loss: 0.1060 - val_accuracy: 0.9704\n",
            "Epoch 29/30\n",
            "79/79 [==============================] - 32s 409ms/step - loss: 0.0399 - accuracy: 0.9837 - val_loss: 0.1604 - val_accuracy: 0.9301\n",
            "Epoch 30/30\n",
            "79/79 [==============================] - 32s 411ms/step - loss: 0.0379 - accuracy: 0.9833 - val_loss: 0.0644 - val_accuracy: 0.9866\n"
          ]
        }
      ],
      "source": [
        "#Let's try some more iterations, just to see what happens\n",
        "history_2 = model.fit(train_data,\n",
        "                        epochs = 30,\n",
        "                        steps_per_epoch = len(train_data),\n",
        "                        validation_data = test_data,\n",
        "                        validation_steps = len(test_data),\n",
        "                        verbose = 1)"
      ]
    },
    {
      "cell_type": "code",
      "source": [
        "acc = history_2.history['accuracy']\n",
        "v_acc = history_2.history['val_accuracy']\n",
        "epochs = range(len(acc))\n",
        "\n",
        "plt.plot(epochs, acc, label = 'Training')\n",
        "plt.plot(epochs, v_acc, label = 'Validation')\n",
        "plt.title('Training and Validation Acuracies over the iterations')\n",
        "plt.legend()\n",
        "plt.figure()"
      ],
      "metadata": {
        "colab": {
          "base_uri": "https://localhost:8080/",
          "height": 316
        },
        "id": "_ZvdYFyr1jQW",
        "outputId": "d4a55672-3226-43c2-da7b-2f95094e29f6"
      },
      "execution_count": 14,
      "outputs": [
        {
          "output_type": "execute_result",
          "data": {
            "text/plain": [
              "<Figure size 432x288 with 0 Axes>"
            ]
          },
          "metadata": {},
          "execution_count": 14
        },
        {
          "output_type": "display_data",
          "data": {
            "text/plain": [
              "<Figure size 432x288 with 1 Axes>"
            ],
            "image/png": "[encoded data removed]"
          },
          "metadata": {
            "needs_background": "light"
          }
        },
        {
          "output_type": "display_data",
          "data": {
            "text/plain": [
              "<Figure size 432x288 with 0 Axes>"
            ]
          },
          "metadata": {}
        }
      ]
    }
  ],
  "metadata": {
    "accelerator": "GPU",
    "colab": {
      "provenance": []
    },
    "gpuClass": "standard",
    "kernelspec": {
      "display_name": "Python 3",
      "language": "python",
      "name": "python3"
    },
    "language_info": {
      "codemirror_mode": {
        "name": "ipython",
        "version": 3
      },
      "file_extension": ".py",
      "mimetype": "text/x-python",
      "name": "python",
      "nbconvert_exporter": "python",
      "pygments_lexer": "ipython3",
      "version": "3.11.2"
    },
    "orig_nbformat": 4
  },
  "nbformat": 4,
  "nbformat_minor": 0
}